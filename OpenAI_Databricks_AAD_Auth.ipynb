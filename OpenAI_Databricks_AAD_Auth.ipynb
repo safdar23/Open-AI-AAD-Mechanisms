{
  "cells": [
    {
      "cell_type": "code",
      "source": [
        "pip install azure-identity"
      ],
      "outputs": [
        {
          "output_type": "stream",
          "name": "stdout",
          "text": "Requirement already satisfied: azure-identity in /anaconda/envs/azureml_py38/lib/python3.8/site-packages (1.7.0)\nRequirement already satisfied: msal<2.0.0,>=1.12.0 in /anaconda/envs/azureml_py38/lib/python3.8/site-packages (from azure-identity) (1.20.0)\nRequirement already satisfied: azure-core<2.0.0,>=1.11.0 in /anaconda/envs/azureml_py38/lib/python3.8/site-packages (from azure-identity) (1.26.1)\nRequirement already satisfied: six>=1.12.0 in /anaconda/envs/azureml_py38/lib/python3.8/site-packages (from azure-identity) (1.16.0)\nRequirement already satisfied: msal-extensions~=0.3.0 in /anaconda/envs/azureml_py38/lib/python3.8/site-packages (from azure-identity) (0.3.1)\nRequirement already satisfied: cryptography>=2.5 in /anaconda/envs/azureml_py38/lib/python3.8/site-packages (from azure-identity) (38.0.4)\nRequirement already satisfied: PyJWT[crypto]<3,>=1.0.0 in /anaconda/envs/azureml_py38/lib/python3.8/site-packages (from msal<2.0.0,>=1.12.0->azure-identity) (2.4.0)\nRequirement already satisfied: requests<3,>=2.0.0 in /anaconda/envs/azureml_py38/lib/python3.8/site-packages (from msal<2.0.0,>=1.12.0->azure-identity) (2.28.1)\nRequirement already satisfied: typing-extensions>=4.0.1 in /anaconda/envs/azureml_py38/lib/python3.8/site-packages (from azure-core<2.0.0,>=1.11.0->azure-identity) (4.4.0)\nRequirement already satisfied: portalocker<3,>=1.0; python_version >= \"3.5\" and platform_system != \"Windows\" in /anaconda/envs/azureml_py38/lib/python3.8/site-packages (from msal-extensions~=0.3.0->azure-identity) (2.6.0)\nRequirement already satisfied: cffi>=1.12 in /anaconda/envs/azureml_py38/lib/python3.8/site-packages (from cryptography>=2.5->azure-identity) (1.15.1)\nRequirement already satisfied: charset-normalizer<3,>=2 in /anaconda/envs/azureml_py38/lib/python3.8/site-packages (from requests<3,>=2.0.0->msal<2.0.0,>=1.12.0->azure-identity) (2.1.1)\nRequirement already satisfied: idna<4,>=2.5 in /anaconda/envs/azureml_py38/lib/python3.8/site-packages (from requests<3,>=2.0.0->msal<2.0.0,>=1.12.0->azure-identity) (3.4)\nRequirement already satisfied: certifi>=2017.4.17 in /anaconda/envs/azureml_py38/lib/python3.8/site-packages (from requests<3,>=2.0.0->msal<2.0.0,>=1.12.0->azure-identity) (2022.12.7)\nRequirement already satisfied: urllib3<1.27,>=1.21.1 in /anaconda/envs/azureml_py38/lib/python3.8/site-packages (from requests<3,>=2.0.0->msal<2.0.0,>=1.12.0->azure-identity) (1.26.13)\nRequirement already satisfied: pycparser in /anaconda/envs/azureml_py38/lib/python3.8/site-packages (from cffi>=1.12->cryptography>=2.5->azure-identity) (2.21)\nNote: you may need to restart the kernel to use updated packages.\n"
        }
      ],
      "execution_count": 8,
      "metadata": {
        "application/vnd.databricks.v1+cell": {
          "cellMetadata": {
            "byteLimit": 2048000,
            "rowLimit": 10000
          },
          "inputWidgets": {},
          "nuid": "6b5198fe-fe9e-4e2a-b4f9-3cfc98417c12",
          "showTitle": false,
          "title": ""
        },
        "gather": {
          "logged": 1683233991353
        }
      }
    },
    {
      "cell_type": "code",
      "source": [
        "pip install openai"
      ],
      "outputs": [
        {
          "output_type": "stream",
          "name": "stdout",
          "text": "Requirement already satisfied: openai in /anaconda/envs/azureml_py38/lib/python3.8/site-packages (0.27.6)\nRequirement already satisfied: tqdm in /anaconda/envs/azureml_py38/lib/python3.8/site-packages (from openai) (4.64.1)\nRequirement already satisfied: requests>=2.20 in /anaconda/envs/azureml_py38/lib/python3.8/site-packages (from openai) (2.28.1)\nRequirement already satisfied: aiohttp in /anaconda/envs/azureml_py38/lib/python3.8/site-packages (from openai) (3.8.3)\nRequirement already satisfied: idna<4,>=2.5 in /anaconda/envs/azureml_py38/lib/python3.8/site-packages (from requests>=2.20->openai) (3.4)\nRequirement already satisfied: urllib3<1.27,>=1.21.1 in /anaconda/envs/azureml_py38/lib/python3.8/site-packages (from requests>=2.20->openai) (1.26.13)\nRequirement already satisfied: charset-normalizer<3,>=2 in /anaconda/envs/azureml_py38/lib/python3.8/site-packages (from requests>=2.20->openai) (2.1.1)\nRequirement already satisfied: certifi>=2017.4.17 in /anaconda/envs/azureml_py38/lib/python3.8/site-packages (from requests>=2.20->openai) (2022.12.7)\nRequirement already satisfied: async-timeout<5.0,>=4.0.0a3 in /anaconda/envs/azureml_py38/lib/python3.8/site-packages (from aiohttp->openai) (4.0.2)\nRequirement already satisfied: attrs>=17.3.0 in /anaconda/envs/azureml_py38/lib/python3.8/site-packages (from aiohttp->openai) (22.1.0)\nRequirement already satisfied: frozenlist>=1.1.1 in /anaconda/envs/azureml_py38/lib/python3.8/site-packages (from aiohttp->openai) (1.3.3)\nRequirement already satisfied: yarl<2.0,>=1.0 in /anaconda/envs/azureml_py38/lib/python3.8/site-packages (from aiohttp->openai) (1.8.2)\nRequirement already satisfied: multidict<7.0,>=4.5 in /anaconda/envs/azureml_py38/lib/python3.8/site-packages (from aiohttp->openai) (6.0.3)\nRequirement already satisfied: aiosignal>=1.1.2 in /anaconda/envs/azureml_py38/lib/python3.8/site-packages (from aiohttp->openai) (1.3.1)\nNote: you may need to restart the kernel to use updated packages.\n"
        }
      ],
      "execution_count": 9,
      "metadata": {
        "application/vnd.databricks.v1+cell": {
          "cellMetadata": {
            "byteLimit": 2048000,
            "rowLimit": 10000
          },
          "inputWidgets": {},
          "nuid": "8bff4154-dfd4-4e44-971b-1c7cf0532ba9",
          "showTitle": false,
          "title": ""
        },
        "gather": {
          "logged": 1683233995747
        }
      }
    },
    {
      "attachments": {},
      "cell_type": "markdown",
      "source": [
        "This notebooks configures Azure OpenAI Python SDK to use Service Principal in Azure Active Directory and uses Token authentication rather than using Open AI access key. \n",
        "\n",
        "This notebook can also run on Databricks with secret scope configured. The Service Principal ID(Client Id), Client Secret and Azure Active Directory Tenant Id can be created in databricks backed vault and retrieved at runtime and stored in environment variables. Azure OpenAI python SDK automatically detects the environment variables and acquires the AAD token. \n",
        "\n",
        "The Service Principal needs to be granted \"Cognitive Services User\" role in Azure portal to the Azure Resource Group which contains the Azure OpenAI Resource or use the below Azure CLI commands.\n",
        "\n",
        "    openAIRg=\"<OpenAI Resource Group Name>\n",
        "    spId=\"<Service Principal GUID>\"\n",
        "    export resourceId=$(az group show -g $openAIRg | jq -r .id)\n",
        "    az role assignment create --role \"Cognitive Services User\" --assignee $spId --scope $resourceId\n",
        "\n",
        "    Create the Service Principal\n",
        "    az ad sp create-for-rbac --name myServicePrincipalName --role Cognitive Services User --scopes /subscriptions/Sub ID/resourceGroups/RGName"
      ],
      "metadata": {}
    },
    {
      "attachments": {},
      "cell_type": "markdown",
      "source": [
        "# Creating Service Principal \r\n",
        "\r\n",
        "Create the Service Principal\r\n",
        "\r\n",
        "az ad sp create-for-rbac --name myServicePrincipalName --role Cognitive Services User --scopes /subscriptions/Sub ID/resourceGroups/RGName\r\n",
        "\r\n",
        "copy the AppID, App Secret and Tenantid after executing the above command"
      ],
      "metadata": {}
    },
    {
      "cell_type": "code",
      "source": [
        "import os\r\n",
        "#import dbutils\r\n",
        "\r\n",
        "# Specify the name of the secret scope and key vault secret name\r\n",
        "#scope_name = \"akv\"\r\n",
        "\r\n",
        "# Get the secret value\r\n",
        "OPENAI_APP_ID = \"0fcb761f-8033-4a89-b11f-caf22d77788e\"\r\n",
        "OPENAI_APP_SECRET = \"lr6JoER8EDTFXnFO.16xylUr9wXw7kv7y~\"\r\n",
        "TENANT_ID = \"16b3c013-d300-468d-ac64-7eda0820b6d3\"\r\n",
        "\r\n",
        "# Use the secret value in your code\r\n",
        "print(OPENAI_APP_ID)\r\n",
        "print(OPENAI_APP_SECRET)\r\n",
        "print(TENANT_ID)\r\n",
        "\r\n",
        "os.environ[\"AZURE_TENANT_ID\"] = TENANT_ID\r\n",
        "os.environ[\"AZURE_CLIENT_ID\"] = OPENAI_APP_ID\r\n",
        "os.environ[\"AZURE_CLIENT_SECRET\"] = OPENAI_APP_SECRET"
      ],
      "outputs": [],
      "execution_count": null,
      "metadata": {
        "jupyter": {
          "source_hidden": false,
          "outputs_hidden": false
        },
        "nteract": {
          "transient": {
            "deleting": false
          }
        }
      }
    },
    {
      "cell_type": "markdown",
      "source": [
        "# Option 1: Use DeviceCodeCredential to login interactively using user token"
      ],
      "metadata": {
        "nteract": {
          "transient": {
            "deleting": false
          }
        }
      }
    },
    {
      "cell_type": "code",
      "source": [
        "from azure.identity import DeviceCodeCredential\n",
        "import os\n",
        "\n",
        "import openai\n",
        "device_credential = DeviceCodeCredential(tenant_id=\"XXXXXXXXXXXXXXXXX\")\n",
        "token = device_credential.get_token(\"https://cognitiveservices.azure.com/.default\")\n",
        "\n",
        "openai.api_type = 'azure_ad'\n",
        "openai.api_key = token.token"
      ],
      "outputs": [],
      "execution_count": 18,
      "metadata": {
        "gather": {
          "logged": 1683234382259
        }
      }
    },
    {
      "attachments": {},
      "cell_type": "markdown",
      "source": [
        "# Option 2: Use DefaultAzureCredential to acquire token using AAD Service Principal\r\n",
        "\r\n",
        "\r\n",
        "\r\n"
      ],
      "metadata": {}
    },
    {
      "cell_type": "code",
      "source": [
        "from azure.identity import DefaultAzureCredential\n",
        "import openai\n",
        "\n",
        "# Request credential\n",
        "default_credential = DefaultAzureCredential()\n",
        "token = default_credential.get_token(\"https://cognitiveservices.azure.com/.default\")\n",
        "\n",
        "# Setup parameters\n",
        "openai.api_type = \"azure_ad\"\n",
        "openai.api_key = token.token\n",
        "openai.api_base = \"https://textsearchcurieexercise.openai.azure.com/\"\n",
        "openai.api_version = \"2023-03-15-preview\""
      ],
      "outputs": [],
      "execution_count": 20,
      "metadata": {
        "application/vnd.databricks.v1+cell": {
          "cellMetadata": {
            "byteLimit": 2048000,
            "rowLimit": 10000
          },
          "inputWidgets": {},
          "nuid": "fa51ecad-cbab-453e-b318-875761f8f14f",
          "showTitle": false,
          "title": ""
        },
        "gather": {
          "logged": 1683246074678
        }
      }
    },
    {
      "cell_type": "code",
      "source": [
        "completion = openai.ChatCompletion.create(deployment_id=\"chat\", messages=[{\"role\": \"user\", \"content\": \"Hello world!\"}])\n",
        "print(completion.choices[0].message.content)"
      ],
      "outputs": [
        {
          "output_type": "stream",
          "name": "stdout",
          "text": "Hello there! How can I assist you today?\n"
        }
      ],
      "execution_count": 21,
      "metadata": {
        "application/vnd.databricks.v1+cell": {
          "cellMetadata": {
            "byteLimit": 2048000,
            "rowLimit": 10000
          },
          "inputWidgets": {},
          "nuid": "48f38c19-acfc-490e-bdb0-3c7aa1d5dffa",
          "showTitle": false,
          "title": ""
        },
        "gather": {
          "logged": 1683246079550
        }
      }
    },
    {
      "cell_type": "markdown",
      "source": [
        "# Option 3 : Authentication for an (interactive) AAD user\r\n",
        "\r\n",
        "First, give your user the Cognitive Services OpenAI User role in Access Control (IAM) in the Azure Portal. This role allows to use the Azure OpenAI Studio, but does not allow to deploy models and change anything."
      ],
      "metadata": {
        "nteract": {
          "transient": {
            "deleting": false
          }
        }
      }
    },
    {
      "cell_type": "code",
      "source": [
        "import os\r\n",
        "import openai\r\n",
        "from azure.identity import AzureCliCredential, ChainedTokenCredential, ManagedIdentityCredential, EnvironmentCredential\r\n",
        "\r\n",
        "# Define strategy which potential authentication methods should be tried to gain an access token\r\n",
        "credential = ChainedTokenCredential(ManagedIdentityCredential(), EnvironmentCredential(), AzureCliCredential())\r\n",
        "access_token = credential.get_token(\"https://cognitiveservices.azure.com/.default\")\r\n",
        "\r\n",
        "# Configure OpenAI SDK to use the access token\r\n",
        "openai.api_base = \"https://textsearchcurieexercise.openai.azure.com/\"\r\n",
        "openai.api_version = '2022-12-01'\r\n",
        "openai.api_type = 'azure_ad'\r\n",
        "openai.api_key = access_token.token\r\n",
        "deployment = \"davinci\"\r\n",
        "\r\n",
        "# Execute completion\r\n",
        "prompt = \"\"\"Write a tagline for an ice cream brand:\"\"\"\r\n",
        "response = openai.Completion.create(engine=deployment, prompt=prompt, max_tokens=100)\r\n",
        "text = response['choices'][0]['text']\r\n",
        "print(f\"Response was: {text}\")\r\n"
      ],
      "outputs": [
        {
          "output_type": "stream",
          "name": "stdout",
          "text": "Response was: \n\n\"Taste the Chills of Happiness!\"\n"
        }
      ],
      "execution_count": 22,
      "metadata": {
        "jupyter": {
          "source_hidden": false,
          "outputs_hidden": false
        },
        "nteract": {
          "transient": {
            "deleting": false
          }
        },
        "gather": {
          "logged": 1683246098222
        }
      }
    },
    {
      "cell_type": "code",
      "source": [],
      "outputs": [],
      "execution_count": null,
      "metadata": {
        "jupyter": {
          "source_hidden": false,
          "outputs_hidden": false
        },
        "nteract": {
          "transient": {
            "deleting": false
          }
        }
      }
    }
  ],
  "metadata": {
    "application/vnd.databricks.v1+notebook": {
      "dashboards": [],
      "language": "python",
      "notebookMetadata": {
        "pythonIndentUnit": 2
      },
      "notebookName": "openai",
      "notebookOrigID": 1999595736424843,
      "widgets": {}
    },
    "language_info": {
      "name": "python",
      "version": "3.8.10",
      "mimetype": "text/x-python",
      "codemirror_mode": {
        "name": "ipython",
        "version": 3
      },
      "pygments_lexer": "ipython3",
      "nbconvert_exporter": "python",
      "file_extension": ".py"
    },
    "microsoft": {
      "ms_spell_check": {
        "ms_spell_check_language": "en"
      },
      "host": {
        "AzureML": {
          "notebookHasBeenCompleted": true
        }
      }
    },
    "kernelspec": {
      "name": "python38-azureml",
      "language": "python",
      "display_name": "Python 3.8 - AzureML"
    },
    "kernel_info": {
      "name": "python38-azureml"
    },
    "nteract": {
      "version": "nteract-front-end@1.0.0"
    }
  },
  "nbformat": 4,
  "nbformat_minor": 0
}